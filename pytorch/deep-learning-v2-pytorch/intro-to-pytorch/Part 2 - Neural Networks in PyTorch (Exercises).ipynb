{
 "cells": [
  {
   "cell_type": "markdown",
   "metadata": {},
   "source": [
    "# Neural networks with PyTorch\n",
    "\n",
    "Deep learning networks tend to be massive with dozens or hundreds of layers, that's where the term \"deep\" comes from. You can build one of these deep networks using only weight matrices as we did in the previous notebook, but in general it's very cumbersome and difficult to implement. PyTorch has a nice module `nn` that provides a nice way to efficiently build large neural networks."
   ]
  },
  {
   "cell_type": "code",
   "execution_count": 2,
   "metadata": {},
   "outputs": [],
   "source": [
    "# Import necessary packages\n",
    "\n",
    "%matplotlib inline\n",
    "%config InlineBackend.figure_format = 'retina'\n",
    "\n",
    "import numpy as np\n",
    "import torch\n",
    "\n",
    "import helper\n",
    "\n",
    "import matplotlib.pyplot as plt"
   ]
  },
  {
   "cell_type": "markdown",
   "metadata": {},
   "source": [
    "\n",
    "Now we're going to build a larger network that can solve a (formerly) difficult problem, identifying text in an image. Here we'll use the MNIST dataset which consists of greyscale handwritten digits. Each image is 28x28 pixels, you can see a sample below\n",
    "\n",
    "<img src='assets/mnist.png'>\n",
    "\n",
    "Our goal is to build a neural network that can take one of these images and predict the digit in the image.\n",
    "\n",
    "First up, we need to get our dataset. This is provided through the `torchvision` package. The code below will download the MNIST dataset, then create training and test datasets for us. Don't worry too much about the details here, you'll learn more about this later."
   ]
  },
  {
   "cell_type": "code",
   "execution_count": 3,
   "metadata": {},
   "outputs": [
    {
     "name": "stdout",
     "output_type": "stream",
     "text": [
      "Downloading http://yann.lecun.com/exdb/mnist/train-images-idx3-ubyte.gz\n",
      "Downloading http://yann.lecun.com/exdb/mnist/train-labels-idx1-ubyte.gz\n",
      "Downloading http://yann.lecun.com/exdb/mnist/t10k-images-idx3-ubyte.gz\n",
      "Downloading http://yann.lecun.com/exdb/mnist/t10k-labels-idx1-ubyte.gz\n",
      "Processing...\n",
      "Done!\n"
     ]
    }
   ],
   "source": [
    "### Run this cell\n",
    "\n",
    "from torchvision import datasets, transforms\n",
    "\n",
    "# Define a transform to normalize the data\n",
    "transform = transforms.Compose([transforms.ToTensor(),\n",
    "                              transforms.Normalize((0.5,), (0.5,)),\n",
    "                              ])\n",
    "\n",
    "# Download and load the training data\n",
    "trainset = datasets.MNIST('~/.pytorch/MNIST_data/', download=True, train=True, transform=transform)\n",
    "trainloader = torch.utils.data.DataLoader(trainset, batch_size=64, shuffle=True)"
   ]
  },
  {
   "cell_type": "markdown",
   "metadata": {},
   "source": [
    "We have the training data loaded into `trainloader` and we make that an iterator with `iter(trainloader)`. Later, we'll use this to loop through the dataset for training, like\n",
    "\n",
    "```python\n",
    "for image, label in trainloader:\n",
    "    ## do things with images and labels\n",
    "```\n",
    "\n",
    "You'll notice I created the `trainloader` with a batch size of 64, and `shuffle=True`. The batch size is the number of images we get in one iteration from the data loader and pass through our network, often called a *batch*. And `shuffle=True` tells it to shuffle the dataset every time we start going through the data loader again. But here I'm just grabbing the first batch so we can check out the data. We can see below that `images` is just a tensor with size `(64, 1, 28, 28)`. So, 64 images per batch, 1 color channel, and 28x28 images."
   ]
  },
  {
   "cell_type": "code",
   "execution_count": 4,
   "metadata": {},
   "outputs": [
    {
     "name": "stdout",
     "output_type": "stream",
     "text": [
      "<class 'torch.Tensor'>\n",
      "torch.Size([64, 1, 28, 28])\n",
      "torch.Size([64])\n"
     ]
    }
   ],
   "source": [
    "dataiter = iter(trainloader)\n",
    "images, labels = dataiter.next()\n",
    "print(type(images))\n",
    "print(images.shape)\n",
    "print(labels.shape)"
   ]
  },
  {
   "cell_type": "markdown",
   "metadata": {},
   "source": [
    "This is what one of the images looks like. "
   ]
  },
  {
   "cell_type": "code",
   "execution_count": 5,
   "metadata": {},
   "outputs": [
    {
     "data": {
      "image/png": "[encoded data removed]",
      "text/plain": [
       "<Figure size 432x288 with 1 Axes>"
      ]
     },
     "metadata": {
      "image/png": {
       "height": 250,
       "width": 253
      },
      "needs_background": "light"
     },
     "output_type": "display_data"
    }
   ],
   "source": [
    "plt.imshow(images[1].numpy().squeeze(), cmap='Greys_r');"
   ]
  },
  {
   "cell_type": "markdown",
   "metadata": {},
   "source": [
    "First, let's try to build a simple network for this dataset using weight matrices and matrix multiplications. Then, we'll see how to do it using PyTorch's `nn` module which provides a much more convenient and powerful method for defining network architectures.\n",
    "\n",
    "The networks you've seen so far are called *fully-connected* or *dense* networks. Each unit in one layer is connected to each unit in the next layer. In fully-connected networks, the input to each layer must be a one-dimensional vector (which can be stacked into a 2D tensor as a batch of multiple examples). However, our images are 28x28 2D tensors, so we need to convert them into 1D vectors. Thinking about sizes, we need to convert the batch of images with shape `(64, 1, 28, 28)` to a have a shape of `(64, 784)`, 784 is 28 times 28. This is typically called *flattening*, we flattened the 2D images into 1D vectors.\n",
    "\n",
    "Previously you built a network with one output unit. Here we need 10 output units, one for each digit. We want our network to predict the digit shown in an image, so what we'll do is calculate probabilities that the image is of any one digit or class. This ends up being a discrete probability distribution over the classes (digits) that tells us the most likely class for the image. That means we need 10 output units for the 10 classes (digits). We'll see how to convert the network output into a probability distribution next.\n",
    "\n",
    "> **Exercise:** Flatten the batch of images `images`. Then build a multi-layer network with 784 input units, 256 hidden units, and 10 output units using random tensors for the weights and biases. For now, use a sigmoid activation for the hidden layer. Leave the output layer without an activation, we'll add one that gives us a probability distribution next."
   ]
  },
  {
   "cell_type": "code",
   "execution_count": 13,
   "metadata": {},
   "outputs": [
    {
     "name": "stdout",
     "output_type": "stream",
     "text": [
      "torch.Size([64, 784])\n",
      "out =  tensor([[ 8.7834e+00,  1.0741e+01,  1.9660e+01,  7.2243e+00,  1.4423e+01,\n",
      "         -1.9239e+00, -8.4131e+00,  1.5751e+00,  2.3924e+01,  5.4382e+00],\n",
      "        [ 1.1675e+01,  7.1426e-01,  1.2409e+01,  2.0176e+01,  8.3477e+00,\n",
      "          1.4395e+00, -2.1871e+00, -9.3847e+00,  2.2247e+01,  4.8994e+00],\n",
      "        [ 1.6970e+00, -1.1998e+00,  1.3681e+01,  7.9726e+00,  1.7386e+01,\n",
      "          1.3068e+00, -6.7825e+00,  2.6694e+00,  1.8247e+01,  1.4685e+01],\n",
      "        [-1.2662e-01,  3.1095e-01,  2.0101e+01,  7.8414e+00,  8.5701e+00,\n",
      "         -4.8412e+00, -6.4697e+00,  3.7998e-01,  2.3016e+01,  1.1044e+01],\n",
      "        [-5.6089e+00, -2.7247e+00,  1.2627e+00,  1.7259e+01,  9.0775e-01,\n",
      "          9.5773e-01, -1.1826e+01,  2.2778e+00,  1.5224e+01,  1.4287e+01],\n",
      "        [-6.3870e+00,  7.0445e+00,  8.5304e+00, -1.1595e+00,  7.7105e+00,\n",
      "         -2.3325e-01, -2.3569e+01,  1.4148e+00,  1.9220e+01,  1.8958e+01],\n",
      "        [ 5.4502e+00,  3.8547e+00,  1.1998e+01,  8.5872e+00,  1.1785e+01,\n",
      "          4.4460e+00, -1.6150e+01,  1.7731e+01,  1.6336e+01,  1.8504e+01],\n",
      "        [ 8.6541e+00,  3.1995e-01,  1.5445e+01,  7.7942e+00,  7.5935e+00,\n",
      "         -3.2349e-01, -1.0333e+01,  5.7432e+00,  1.4228e+01,  4.5292e+00],\n",
      "        [ 3.8638e+00, -5.7716e+00,  7.1087e+00,  1.0265e+01,  8.6305e+00,\n",
      "          2.1102e-01, -1.2885e+01,  3.1164e+00,  2.6642e+01,  1.6413e+00],\n",
      "        [-4.4566e+00,  2.8915e+00,  1.2370e+01,  5.7882e+00,  1.3608e+01,\n",
      "          3.2688e+00, -1.2592e+01,  9.5221e+00,  1.5991e+01,  8.2186e+00],\n",
      "        [ 5.3912e+00,  9.8102e-01,  5.5324e+00,  1.6958e+01,  9.6561e+00,\n",
      "         -2.1623e+00, -1.8614e+01,  2.2980e+00,  1.3844e+01, -9.0498e-01],\n",
      "        [ 2.1204e+00,  5.5018e+00,  9.0932e+00,  1.6185e+01,  1.2349e+01,\n",
      "         -5.0746e+00, -1.7437e+01,  6.2105e+00,  2.9527e+01,  5.8815e+00],\n",
      "        [ 2.1627e+00,  5.3216e+00,  2.2183e+01, -4.7167e+00,  1.0716e+01,\n",
      "         -4.6260e+00, -1.4220e+01,  1.5312e-01,  1.9166e+01,  5.0255e+00],\n",
      "        [ 1.6751e+00,  7.0840e+00,  4.7911e+00,  9.1319e+00,  9.2624e+00,\n",
      "          7.8356e+00, -1.1324e+01,  4.5954e+00,  2.3949e+01,  9.3064e+00],\n",
      "        [ 4.8494e+00, -3.9031e+00,  1.5915e+01,  4.6117e+00,  1.2156e+01,\n",
      "         -8.2873e+00, -1.0510e+01, -2.2807e+00,  1.5824e+01,  1.2058e+01],\n",
      "        [ 2.0938e+00, -1.0375e-01,  1.7989e+01, -3.0957e+00,  7.0378e+00,\n",
      "         -3.1170e+00, -1.6938e+01, -2.2346e+00,  2.1362e+01,  1.6646e+01],\n",
      "        [ 4.2432e+00,  9.8711e-01, -1.3261e+00,  8.4144e+00,  1.0163e+01,\n",
      "          4.0928e+00, -1.5205e+01,  1.6343e+01,  1.8834e+01,  1.3280e+01],\n",
      "        [ 1.1747e+01,  9.8055e+00,  7.8537e+00,  1.2212e+01,  4.2606e+00,\n",
      "         -2.5875e+00, -1.0251e+01, -3.0804e+00,  9.8080e+00,  6.6612e+00],\n",
      "        [-5.2512e+00,  7.7820e+00,  8.6727e+00,  3.2873e+00,  9.3929e+00,\n",
      "         -2.8878e+00, -1.6025e+01, -1.4602e+00,  2.3723e+01,  1.0909e+01],\n",
      "        [ 9.6160e+00,  8.4190e+00,  1.0703e+01,  1.4991e+01,  9.0408e+00,\n",
      "         -2.9071e+00, -1.1295e+01,  1.7450e+00,  1.5905e+01,  5.7110e+00],\n",
      "        [-5.9090e-02, -5.8005e+00,  1.2013e-01,  1.8778e+01,  3.7567e+00,\n",
      "          5.8576e-01, -7.7420e+00, -2.4466e+00,  2.3833e+01,  1.1114e+01],\n",
      "        [ 4.8363e+00, -5.1380e+00,  1.4115e+01,  7.9770e+00,  1.1831e+01,\n",
      "          5.0297e+00, -5.5282e+00,  4.6381e-01,  1.7636e+01,  1.4709e+01],\n",
      "        [ 5.1056e+00,  8.7006e+00,  1.2771e+01,  1.5934e+01,  9.8001e+00,\n",
      "          7.8941e+00, -1.1873e+01, -1.5896e+00,  2.2965e+01,  9.9973e+00],\n",
      "        [ 1.5343e+00,  9.1928e-01,  9.2179e+00,  6.0780e+00,  1.0435e+01,\n",
      "         -5.8481e+00, -1.1534e+01, -4.4328e+00,  1.1154e+01,  4.5940e+00],\n",
      "        [-3.2254e-01,  2.1118e-01,  1.5685e+01,  6.0705e+00,  4.5337e+00,\n",
      "         -2.4743e+00, -1.7577e+01,  1.6352e+00,  2.1306e+01,  6.4450e+00],\n",
      "        [-4.1398e+00,  5.4612e+00,  2.0751e+01, -2.9944e+00,  1.0452e+01,\n",
      "          4.7014e+00, -1.6604e+01, -3.4160e-01,  1.4155e+01,  1.2860e+01],\n",
      "        [ 5.7321e+00,  4.8165e+00,  1.8638e+01,  2.9789e+00,  9.4097e+00,\n",
      "          1.7977e+00, -1.2034e+01,  4.3425e+00,  2.9900e+01,  9.6200e+00],\n",
      "        [ 1.8606e-01, -7.4397e+00,  8.9642e+00,  3.0881e+00,  8.0450e+00,\n",
      "         -1.1452e+00, -2.3317e+01,  8.0443e-01,  2.2348e+01, -2.6125e+00],\n",
      "        [-5.3967e+00,  8.4072e+00,  2.3300e+01,  1.1011e+01,  6.5692e+00,\n",
      "         -1.5914e+00, -1.3346e+01,  3.6943e+00,  3.1612e+01,  1.2400e+01],\n",
      "        [ 8.4728e+00, -1.1329e+00,  1.8131e+01, -5.9885e-01,  7.0371e-01,\n",
      "          2.4720e+00, -1.2074e+01, -2.3518e+00,  1.6125e+01,  1.0469e+01],\n",
      "        [-3.3829e-01,  8.8774e-01,  1.2838e+01,  1.4429e+01,  1.3280e+01,\n",
      "          1.7073e+00, -6.6395e+00,  1.0474e-01,  2.6342e+01,  4.7439e+00],\n",
      "        [ 3.4439e+00, -9.8472e-01,  1.1869e+01,  8.3740e+00,  1.0534e+01,\n",
      "         -4.2049e+00, -1.1055e+01,  8.5840e-02,  2.4178e+01,  7.7369e+00],\n",
      "        [ 1.0721e+01, -1.3779e-01,  1.3785e+01,  1.6777e+01,  1.1363e+01,\n",
      "          4.5297e-01, -1.0472e+01,  2.9328e+00,  2.0827e+01, -1.0457e+00],\n",
      "        [ 2.9368e+00, -1.7232e+00,  1.4568e+01,  1.1094e+01,  1.7204e+01,\n",
      "          4.8937e-01, -9.8752e+00, -5.3521e+00,  1.3950e+01,  1.1578e+01],\n",
      "        [ 2.1947e+00,  1.2175e+01,  1.6758e+01,  5.8896e+00,  1.2198e+01,\n",
      "          3.1325e+00, -2.3900e+01, -6.9707e-02,  2.9846e+01,  7.9755e+00],\n",
      "        [ 1.4832e+00,  1.1159e+01,  9.5934e+00,  3.0205e-02,  5.4114e+00,\n",
      "          2.0668e+00, -2.0235e+01,  1.4149e+01,  8.5412e+00,  1.0804e+01],\n",
      "        [ 1.0292e+00,  7.8309e+00,  7.2777e+00,  1.1533e+01,  7.7701e+00,\n",
      "          2.8757e+00, -9.8920e+00, -9.9729e+00,  1.8875e+01,  1.2322e+01],\n",
      "        [ 1.9601e+00, -6.0141e+00,  1.5752e+01,  8.1035e+00,  1.3055e+01,\n",
      "         -8.9907e+00, -7.6616e+00, -2.2603e+00,  1.8914e+01,  8.5601e+00],\n",
      "        [ 1.1148e+01,  1.9355e+00,  6.1141e+00,  1.7211e+01, -4.8021e+00,\n",
      "         -1.3611e+00, -1.1162e+01,  1.2154e+01,  1.0227e+01,  3.3662e+00],\n",
      "        [ 2.6004e+00,  1.9880e+00,  1.4663e+01,  1.0193e+01,  1.5853e+01,\n",
      "         -6.1054e-01, -1.9179e+01,  1.4934e+01,  1.1569e+01,  3.3558e+00],\n",
      "        [ 6.2911e+00, -7.6529e+00,  2.0573e+01,  5.6482e+00,  4.6923e+00,\n",
      "         -3.2631e+00, -1.5745e+01,  4.5416e-01,  2.3059e+01,  1.2604e+01],\n",
      "        [ 2.4750e+00,  1.8657e+00,  7.1056e+00,  5.0560e+00,  8.4815e+00,\n",
      "         -2.7941e+00, -1.0426e+01,  9.0823e+00,  2.7598e+01,  9.8672e+00],\n",
      "        [ 7.1113e+00,  5.1061e+00,  1.8142e+01,  1.4491e+01,  1.0027e+01,\n",
      "         -4.2162e+00, -1.9621e+01,  1.1980e+01,  2.7429e+01,  1.0924e+01],\n",
      "        [ 4.1696e+00, -1.5140e+00,  2.4467e+00,  1.1231e+01, -5.3238e-01,\n",
      "         -2.9244e+00, -1.1556e+01, -2.7428e+00,  1.5451e+01,  8.9832e+00],\n",
      "        [ 3.3827e+00, -5.5816e-01,  1.6934e+01,  1.3025e+00,  7.4070e+00,\n",
      "          9.4740e-01, -1.2986e+01, -2.7104e+00,  8.6294e+00,  9.6468e+00],\n",
      "        [ 9.5821e+00,  9.9592e-01,  1.1118e+01,  8.4255e+00,  9.1636e+00,\n",
      "          2.0661e+00, -8.9990e+00,  3.0900e+00,  1.9173e+01,  1.1230e+01],\n",
      "        [-1.6380e+00,  1.2931e+01,  1.1956e+01,  1.3396e+01,  9.5243e+00,\n",
      "          6.2023e+00, -1.1849e+01,  1.1638e+00,  2.8514e+01,  3.9140e+00],\n",
      "        [ 2.7944e+00,  4.8345e+00,  5.5667e+00,  6.2012e+00,  4.6982e+00,\n",
      "          2.6238e+00, -1.0126e+01,  8.5623e+00,  2.4812e+01,  1.2617e+01],\n",
      "        [ 8.7597e+00,  4.6347e+00,  1.4861e+01,  1.2584e+01,  1.2535e+01,\n",
      "         -5.2729e+00, -1.5164e+01, -2.1516e+00,  2.5886e+01,  2.3924e+00],\n",
      "        [-3.8104e+00,  2.8016e+00,  1.4989e+01,  8.1362e-01,  9.5921e+00,\n",
      "         -8.0338e+00, -9.4192e+00, -7.8599e+00,  1.8660e+01,  8.3956e+00],\n",
      "        [-3.4701e+00,  5.9191e-01,  1.8770e+01,  1.0236e+01,  4.8342e+00,\n",
      "          1.9261e+00, -1.1561e+01, -7.1304e+00,  1.6667e+01,  9.0421e+00],\n",
      "        [ 6.9027e+00, -7.0115e+00,  8.6618e+00,  1.5581e+01,  7.6808e+00,\n",
      "         -4.9302e+00,  8.6818e-01,  1.5571e+00,  2.4711e+01,  4.8672e+00],\n",
      "        [ 6.9978e+00, -5.1725e+00,  1.3013e+01,  5.0233e+00,  1.3621e+01,\n",
      "         -7.6241e+00, -8.1505e+00,  8.6004e+00,  1.4992e+01,  1.7246e+01],\n",
      "        [ 2.9019e+00, -1.8692e+00,  1.6868e+01,  8.1227e+00,  1.2458e+01,\n",
      "         -1.0125e+00, -6.9371e+00,  7.5687e+00,  2.1561e+01,  4.1562e+00],\n",
      "        [ 1.0851e+00,  1.9762e+01,  1.0563e+01,  3.1362e+00,  1.6362e+01,\n",
      "         -2.4453e+00, -1.7791e+01,  5.3059e+00,  3.0177e+01,  1.5666e+01],\n",
      "        [ 1.1762e+01, -3.2121e-01,  9.8040e+00,  4.6667e+00,  7.0992e+00,\n",
      "         -3.3912e+00, -1.2531e+01,  1.7170e+00,  1.9925e+01,  1.1803e+01],\n",
      "        [ 6.3317e+00,  6.2297e+00,  1.0802e+01,  3.8984e-01,  4.5653e+00,\n",
      "         -3.7082e+00, -1.8833e+01,  7.0605e+00,  2.2683e+01,  5.4050e+00],\n",
      "        [ 1.1626e+01,  1.2627e+00,  1.0166e+01,  1.2288e+01,  3.2993e+00,\n",
      "         -1.8714e+00, -6.1847e+00,  2.9043e+00,  1.8989e+01,  6.8388e+00],\n",
      "        [ 4.7573e+00, -3.2373e+00,  1.3653e+01,  1.2139e+01,  2.6106e+00,\n",
      "         -2.1803e+00, -7.1242e+00, -3.3129e+00,  1.4841e+01,  6.7948e+00],\n",
      "        [-5.6108e+00,  3.1358e+00,  6.4856e+00,  1.1130e+01,  9.6952e+00,\n",
      "         -5.6176e+00, -1.2949e+01,  1.2409e+01,  2.0687e+01,  1.0511e+01],\n",
      "        [ 1.0616e+01,  5.3514e+00,  1.0671e+01,  6.9163e+00,  6.1064e+00,\n",
      "          3.0542e+00, -1.0692e+01,  2.4539e+00,  1.9765e+01,  1.1964e+01],\n",
      "        [ 6.8584e+00, -2.1806e+00,  1.2159e+01,  4.5984e+00,  1.4962e+00,\n",
      "          4.7797e+00, -1.5492e+01,  1.4940e+00,  1.9294e+01,  1.0340e+01],\n",
      "        [-2.8070e+00,  6.1363e+00,  1.3199e+01,  1.2569e+01,  7.3272e+00,\n",
      "         -1.3561e+00, -9.7824e+00,  7.5314e+00,  3.2253e+01,  9.7888e+00],\n",
      "        [ 1.3027e-01,  4.8045e+00,  1.6106e+01,  1.1691e+01,  4.9839e+00,\n",
      "          1.0596e+00, -1.7148e+01, -9.7677e-01,  1.9812e+01,  8.6681e+00]])\n"
     ]
    }
   ],
   "source": [
    "## Your solution\n",
    "def activation(x):\n",
    "    return 1/(1+torch.exp(-x))\n",
    "\n",
    "# Flatten the input images\n",
    "inputs = images.view(images.shape[0], -1)\n",
    "print(inputs.shape)\n",
    "\n",
    "# Create parameters\n",
    "w1 = torch.randn(784, 256)\n",
    "b1 = torch.randn(256)\n",
    "\n",
    "w2 = torch.randn(256, 10)\n",
    "b2 = torch.randn(10)\n",
    "\n",
    "h = activation(torch.mm(inputs, w1) + b1)\n",
    "\n",
    "out = torch.mm(h, w2) + b2\n",
    "print('out = ', out)"
   ]
  },
  {
   "cell_type": "markdown",
   "metadata": {},
   "source": [
    "Now we have 10 outputs for our network. We want to pass in an image to our network and get out a probability distribution over the classes that tells us the likely class(es) the image belongs to. Something that looks like this:\n",
    "<img src='assets/image_distribution.png' width=500px>\n",
    "\n",
    "Here we see that the probability for each class is roughly the same. This is representing an untrained network, it hasn't seen any data yet so it just returns a uniform distribution with equal probabilities for each class.\n",
    "\n",
    "To calculate this probability distribution, we often use the [**softmax** function](https://en.wikipedia.org/wiki/Softmax_function). Mathematically this looks like\n",
    "\n",
    "$$\n",
    "\\Large \\sigma(x_i) = \\cfrac{e^{x_i}}{\\sum_k^K{e^{x_k}}}\n",
    "$$\n",
    "\n",
    "What this does is squish each input $x_i$ between 0 and 1 and normalizes the values to give you a proper probability distribution where the probabilites sum up to one.\n",
    "\n",
    "> **Exercise:** Implement a function `softmax` that performs the softmax calculation and returns probability distributions for each example in the batch. Note that you'll need to pay attention to the shapes when doing this. If you have a tensor `a` with shape `(64, 10)` and a tensor `b` with shape `(64,)`, doing `a/b` will give you an error because PyTorch will try to do the division across the columns (called broadcasting) but you'll get a size mismatch. The way to think about this is for each of the 64 examples, you only want to divide by one value, the sum in the denominator. So you need `b` to have a shape of `(64, 1)`. This way PyTorch will divide the 10 values in each row of `a` by the one value in each row of `b`. Pay attention to how you take the sum as well. You'll need to define the `dim` keyword in `torch.sum`. Setting `dim=0` takes the sum across the rows while `dim=1` takes the sum across the columns."
   ]
  },
  {
   "cell_type": "code",
   "execution_count": 17,
   "metadata": {},
   "outputs": [
    {
     "name": "stdout",
     "output_type": "stream",
     "text": [
      "probabilities =  tensor([[2.6203e-07, 1.8551e-06, 1.3868e-02, 5.5109e-08, 7.3732e-05, 5.8646e-12,\n",
      "         8.9126e-15, 1.9402e-10, 9.8606e-01, 9.2370e-09],\n",
      "        [2.2764e-05, 3.9539e-10, 4.7432e-05, 1.1193e-01, 8.1691e-07, 8.1660e-10,\n",
      "         2.1725e-11, 1.6259e-14, 8.8799e-01, 2.5979e-08],\n",
      "        [4.4417e-08, 2.4518e-09, 7.1153e-03, 2.3606e-05, 2.8934e-01, 3.0067e-08,\n",
      "         9.2248e-12, 1.1745e-07, 6.8411e-01, 1.9409e-02],\n",
      "        [8.4385e-11, 1.3071e-10, 5.1393e-02, 2.4364e-07, 5.0490e-07, 7.5640e-13,\n",
      "         1.4843e-13, 1.4005e-10, 9.4860e-01, 5.9909e-06],\n",
      "        [9.9108e-11, 1.7731e-09, 9.5593e-08, 8.4610e-01, 6.7030e-08, 7.0466e-08,\n",
      "         1.9775e-13, 2.6381e-07, 1.1054e-01, 4.3352e-02],\n",
      "        [4.2753e-12, 2.9121e-06, 1.2869e-05, 7.9667e-10, 5.6685e-06, 2.0115e-09,\n",
      "         1.4749e-19, 1.0454e-08, 5.6515e-01, 4.3483e-01],\n",
      "        [1.3565e-06, 2.7512e-07, 9.4662e-04, 3.1249e-05, 7.6470e-04, 4.9696e-07,\n",
      "         5.6465e-16, 2.9223e-01, 7.2464e-02, 6.3356e-01],\n",
      "        [8.6599e-04, 2.0798e-07, 7.7027e-01, 3.6648e-04, 2.9983e-04, 1.0929e-07,\n",
      "         4.9125e-12, 4.7133e-05, 2.2814e-01, 1.3999e-05],\n",
      "        [1.2803e-10, 8.3705e-15, 3.2853e-09, 7.7164e-08, 1.5049e-08, 3.3186e-12,\n",
      "         6.8151e-18, 6.0637e-11, 1.0000e+00, 1.3871e-11],\n",
      "        [1.1748e-09, 1.8246e-06, 2.3861e-02, 3.3053e-05, 8.2307e-02, 2.6612e-06,\n",
      "         3.4421e-13, 1.3830e-03, 8.9204e-01, 3.7560e-04],\n",
      "        [9.0653e-06, 1.1017e-07, 1.0440e-05, 9.5683e-01, 6.4503e-04, 4.7524e-09,\n",
      "         3.4053e-16, 4.1117e-07, 4.2502e-02, 1.6710e-08],\n",
      "        [1.2521e-12, 3.6829e-11, 1.3363e-09, 1.6061e-06, 3.4656e-08, 9.3951e-16,\n",
      "         4.0192e-21, 7.4810e-11, 1.0000e+00, 5.3835e-11],\n",
      "        [1.9254e-09, 4.5333e-08, 9.5335e-01, 1.9807e-12, 9.9859e-06, 2.1688e-12,\n",
      "         1.4779e-16, 2.5810e-10, 4.6641e-02, 3.3715e-08],\n",
      "        [2.1206e-10, 4.7373e-08, 4.7830e-09, 3.6719e-07, 4.1841e-07, 1.0045e-07,\n",
      "         4.7995e-16, 3.9332e-09, 1.0000e+00, 4.3720e-07],\n",
      "        [7.9908e-06, 1.2631e-09, 5.1082e-01, 6.3000e-06, 1.1907e-02, 1.5753e-11,\n",
      "         1.7069e-12, 6.3974e-09, 4.6646e-01, 1.0800e-02],\n",
      "        [4.1089e-09, 4.5638e-10, 3.2894e-02, 2.2906e-11, 5.7658e-07, 2.2423e-11,\n",
      "         2.2291e-17, 5.4188e-11, 9.5852e-01, 8.5852e-03],\n",
      "        [4.2376e-07, 1.6331e-08, 1.6159e-09, 2.7458e-05, 1.5772e-04, 3.6459e-07,\n",
      "         1.5166e-15, 7.6222e-02, 9.2003e-01, 3.5639e-03],\n",
      "        [3.4411e-01, 4.9383e-02, 7.0132e-03, 5.4766e-01, 1.9296e-04, 2.0481e-07,\n",
      "         9.6172e-11, 1.2512e-07, 4.9508e-02, 2.1283e-03],\n",
      "        [2.6111e-13, 1.1941e-07, 2.9098e-07, 1.3337e-09, 5.9792e-07, 2.7747e-12,\n",
      "         5.4683e-18, 1.1567e-11, 1.0000e+00, 2.7231e-06],\n",
      "        [1.3169e-03, 3.9781e-04, 3.9057e-03, 2.8437e-01, 7.4082e-04, 4.7952e-09,\n",
      "         1.0915e-12, 5.0258e-07, 7.0924e-01, 2.6523e-05],\n",
      "        [4.1774e-11, 1.3410e-13, 4.9973e-11, 6.3353e-03, 1.8970e-09, 7.9608e-11,\n",
      "         1.9243e-14, 3.8372e-12, 9.9366e-01, 2.9734e-06],\n",
      "        [2.5420e-06, 1.1841e-10, 2.7209e-02, 5.8773e-05, 2.7724e-03, 3.0843e-06,\n",
      "         8.0158e-11, 3.2080e-08, 9.2065e-01, 4.9303e-02],\n",
      "        [1.7513e-08, 6.3777e-07, 3.7358e-05, 8.8332e-04, 1.9151e-06, 2.8472e-07,\n",
      "         7.4080e-16, 2.1662e-11, 9.9907e-01, 2.3324e-06],\n",
      "        [4.0519e-05, 2.1905e-05, 8.8024e-02, 3.8102e-03, 2.9716e-01, 2.5205e-08,\n",
      "         8.5541e-11, 1.0379e-07, 6.1008e-01, 8.6391e-04],\n",
      "        [4.0312e-10, 6.8743e-10, 3.6108e-03, 2.4092e-07, 5.1816e-08, 4.6877e-11,\n",
      "         1.2940e-17, 2.8554e-09, 9.9639e-01, 3.5038e-07],\n",
      "        [1.5455e-11, 2.2844e-07, 9.9823e-01, 4.8586e-11, 3.3600e-05, 1.0685e-07,\n",
      "         5.9710e-17, 6.8964e-10, 1.3626e-03, 3.7317e-04],\n",
      "        [3.1920e-11, 1.2777e-11, 1.2855e-05, 2.0341e-12, 1.2625e-09, 6.2431e-13,\n",
      "         6.1453e-19, 7.9540e-12, 9.9999e-01, 1.5581e-09],\n",
      "        [2.3735e-10, 1.1576e-13, 1.5406e-06, 4.3227e-09, 6.1447e-07, 6.2698e-11,\n",
      "         1.4732e-20, 4.4051e-10, 1.0000e+00, 1.4454e-11],\n",
      "        [8.4539e-17, 8.3559e-11, 2.4551e-04, 1.1291e-09, 1.3297e-11, 3.7988e-15,\n",
      "         2.9821e-20, 7.5027e-13, 9.9975e-01, 4.5273e-09],\n",
      "        [5.6316e-05, 3.7926e-09, 8.8098e-01, 6.4692e-09, 2.3798e-08, 1.3948e-07,\n",
      "         6.7216e-14, 1.1209e-09, 1.1855e-01, 4.1470e-04],\n",
      "        [2.5870e-12, 8.8155e-12, 1.3653e-06, 6.7005e-06, 2.1247e-06, 2.0006e-11,\n",
      "         4.7448e-15, 4.0290e-12, 9.9999e-01, 4.1684e-10],\n",
      "        [9.8913e-10, 1.1802e-11, 4.5099e-06, 1.3689e-07, 1.1874e-06, 4.7148e-13,\n",
      "         4.9940e-16, 3.4426e-11, 9.9999e-01, 7.2396e-08],\n",
      "        [4.0096e-05, 7.7115e-10, 8.5852e-04, 1.7102e-02, 7.6177e-05, 1.3922e-09,\n",
      "         2.5072e-14, 1.6622e-08, 9.8192e-01, 3.1105e-10],\n",
      "        [5.7040e-07, 5.4000e-09, 6.4205e-02, 1.9896e-03, 8.9597e-01, 4.9350e-08,\n",
      "         1.5560e-12, 1.4335e-10, 3.4610e-02, 3.2283e-03],\n",
      "        [9.7993e-13, 2.1161e-08, 2.0701e-06, 3.9431e-11, 2.1652e-08, 2.5030e-12,\n",
      "         4.5522e-24, 1.0180e-13, 1.0000e+00, 3.1752e-10],\n",
      "        [2.8704e-06, 4.5738e-02, 9.5540e-03, 6.7131e-07, 1.4587e-04, 5.1453e-06,\n",
      "         1.0618e-15, 9.0915e-01, 3.3359e-03, 3.2063e-02],\n",
      "        [1.7735e-08, 1.5951e-05, 9.1733e-06, 6.4660e-04, 1.5010e-05, 1.1241e-07,\n",
      "         3.2051e-13, 2.9560e-13, 9.9789e-01, 1.4228e-03],\n",
      "        [4.1469e-08, 1.4275e-11, 4.0508e-02, 1.9310e-05, 2.7313e-03, 7.2757e-13,\n",
      "         2.7483e-12, 6.0930e-10, 9.5671e-01, 3.0486e-05],\n",
      "        [2.3061e-03, 2.3002e-07, 1.5014e-05, 9.9046e-01, 2.7267e-10, 8.5122e-09,\n",
      "         4.7173e-13, 6.3040e-03, 9.1793e-04, 9.6178e-07],\n",
      "        [1.0206e-06, 5.5327e-07, 1.7691e-01, 2.0253e-03, 5.8117e-01, 4.1151e-08,\n",
      "         3.5491e-16, 2.3188e-01, 8.0117e-03, 2.1725e-06],\n",
      "        [4.8195e-08, 4.2382e-14, 7.6871e-02, 2.5340e-08, 9.7422e-09, 3.4173e-12,\n",
      "         1.2969e-17, 1.4062e-10, 9.2310e-01, 2.6599e-05],\n",
      "        [1.2283e-11, 6.6790e-12, 1.2599e-09, 1.6227e-10, 4.9877e-09, 6.3235e-14,\n",
      "         3.0663e-17, 9.0954e-09, 1.0000e+00, 1.9940e-08],\n",
      "        [1.5007e-09, 2.0203e-10, 9.2691e-05, 2.4056e-06, 2.7694e-08, 1.8063e-14,\n",
      "         3.6859e-21, 1.9540e-07, 9.9990e-01, 6.7965e-08],\n",
      "        [1.2401e-05, 4.2178e-08, 2.2141e-06, 1.4467e-02, 1.1257e-07, 1.0294e-08,\n",
      "         1.8364e-12, 1.2343e-08, 9.8399e-01, 1.5274e-03],\n",
      "        [1.3006e-06, 2.5273e-08, 9.9900e-01, 1.6245e-07, 7.2758e-05, 1.1390e-07,\n",
      "         1.0124e-13, 2.9372e-09, 2.4704e-04, 6.8328e-04],\n",
      "        [6.8274e-05, 1.2744e-08, 3.1730e-04, 2.1476e-05, 4.4928e-05, 3.7160e-08,\n",
      "         5.8154e-13, 1.0345e-07, 9.9919e-01, 3.5469e-04],\n",
      "        [8.0394e-14, 1.7083e-07, 6.4434e-08, 2.7184e-07, 5.6616e-09, 2.0428e-10,\n",
      "         2.9542e-18, 1.3245e-12, 1.0000e+00, 2.0722e-11],\n",
      "        [2.7404e-10, 2.1076e-09, 4.3834e-09, 8.2673e-09, 1.8392e-09, 2.3106e-10,\n",
      "         6.7058e-16, 8.7651e-08, 9.9999e-01, 5.0542e-06],\n",
      "        [3.6504e-08, 5.9002e-10, 1.6300e-05, 1.6712e-06, 1.5921e-06, 2.9380e-14,\n",
      "         1.4878e-18, 6.6621e-13, 9.9998e-01, 6.2668e-11],\n",
      "        [1.6996e-10, 1.2645e-07, 2.4819e-02, 1.7319e-08, 1.1246e-04, 2.4896e-12,\n",
      "         6.2301e-13, 2.9625e-12, 9.7503e-01, 3.3990e-05],\n",
      "        [1.9554e-10, 1.1359e-08, 8.9093e-01, 1.7528e-04, 7.9021e-07, 4.3127e-08,\n",
      "         5.9894e-14, 5.0298e-12, 1.0884e-01, 5.3114e-05],\n",
      "        [1.8455e-08, 1.6720e-14, 1.0717e-07, 1.0844e-04, 4.0180e-08, 1.3401e-13,\n",
      "         4.4192e-11, 8.8015e-11, 9.9989e-01, 2.4105e-09],\n",
      "        [3.0890e-05, 1.6008e-10, 1.2654e-02, 4.2885e-06, 2.3237e-02, 1.3791e-11,\n",
      "         8.1470e-12, 1.5340e-04, 9.1523e-02, 8.7240e-01],\n",
      "        [7.8060e-09, 6.6125e-11, 9.0730e-03, 1.4447e-06, 1.1029e-04, 1.5574e-10,\n",
      "         4.1629e-13, 8.3016e-07, 9.9081e-01, 2.7362e-08],\n",
      "        [2.3209e-13, 2.9976e-05, 3.0333e-09, 1.8048e-12, 1.0008e-06, 6.7984e-15,\n",
      "         1.4714e-21, 1.5801e-11, 9.9997e-01, 4.9878e-07],\n",
      "        [2.8490e-04, 1.6110e-09, 4.0217e-05, 2.3623e-07, 2.6899e-06, 7.4788e-11,\n",
      "         8.0221e-15, 1.2368e-08, 9.9938e-01, 2.9679e-04],\n",
      "        [7.9234e-08, 7.1548e-08, 6.9232e-06, 2.0815e-10, 1.3545e-08, 3.4565e-12,\n",
      "         9.3332e-19, 1.6421e-07, 9.9999e-01, 3.1366e-08],\n",
      "        [6.3337e-04, 1.9987e-08, 1.4702e-04, 1.2276e-03, 1.5319e-07, 8.7019e-10,\n",
      "         1.1652e-11, 1.0321e-07, 9.9799e-01, 5.2774e-06],\n",
      "        [3.0443e-05, 1.0267e-08, 2.2215e-01, 4.8888e-02, 3.5576e-06, 2.9546e-08,\n",
      "         2.1057e-10, 9.5197e-09, 7.2870e-01, 2.3352e-04],\n",
      "        [3.7903e-12, 2.3839e-08, 6.7934e-07, 7.0664e-05, 1.6827e-05, 3.7645e-12,\n",
      "         2.4635e-15, 2.5389e-04, 9.9962e-01, 3.8029e-05],\n",
      "        [1.0632e-04, 5.4962e-07, 1.1226e-04, 2.6283e-06, 1.1693e-06, 5.5260e-08,\n",
      "         5.9220e-14, 3.0317e-08, 9.9937e-01, 4.0898e-04],\n",
      "        [3.9699e-06, 4.7123e-10, 7.9575e-04, 4.1428e-07, 1.8623e-08, 4.9663e-07,\n",
      "         7.8037e-16, 1.8581e-08, 9.9907e-01, 1.2913e-04],\n",
      "        [5.9402e-16, 4.5479e-12, 5.3094e-09, 2.8274e-09, 1.4963e-11, 2.5345e-15,\n",
      "         5.5517e-19, 1.8353e-11, 1.0000e+00, 1.7543e-10],\n",
      "        [2.7658e-09, 2.9636e-07, 2.3989e-02, 2.9001e-04, 3.5460e-07, 7.0054e-09,\n",
      "         8.6729e-17, 9.1420e-10, 9.7571e-01, 1.4117e-05]])\n",
      "torch.Size([64, 10])\n",
      "tensor([1.0000, 1.0000, 1.0000, 1.0000, 1.0000, 1.0000, 1.0000, 1.0000, 1.0000,\n",
      "        1.0000, 1.0000, 1.0000, 1.0000, 1.0000, 1.0000, 1.0000, 1.0000, 1.0000,\n",
      "        1.0000, 1.0000, 1.0000, 1.0000, 1.0000, 1.0000, 1.0000, 1.0000, 1.0000,\n",
      "        1.0000, 1.0000, 1.0000, 1.0000, 1.0000, 1.0000, 1.0000, 1.0000, 1.0000,\n",
      "        1.0000, 1.0000, 1.0000, 1.0000, 1.0000, 1.0000, 1.0000, 1.0000, 1.0000,\n",
      "        1.0000, 1.0000, 1.0000, 1.0000, 1.0000, 1.0000, 1.0000, 1.0000, 1.0000,\n",
      "        1.0000, 1.0000, 1.0000, 1.0000, 1.0000, 1.0000, 1.0000, 1.0000, 1.0000,\n",
      "        1.0000])\n"
     ]
    }
   ],
   "source": [
    "def softmax(x):\n",
    "    ## TODO: Implement the softmax function here\n",
    "    return torch.exp(x)/torch.sum(torch.exp(x), dim = 1).view(-1, 1)\n",
    "\n",
    "# Here, out should be the output of the network in the previous excercise with shape (64,10)\n",
    "probabilities = softmax(out)\n",
    "print('probabilities = ', probabilities)\n",
    "\n",
    "# Does it have the right shape? Should be (64, 10)\n",
    "print(probabilities.shape)\n",
    "# Does it sum to 1?\n",
    "print(probabilities.sum(dim=1))"
   ]
  },
  {
   "cell_type": "markdown",
   "metadata": {},
   "source": [
    "## Building networks with PyTorch\n",
    "\n",
    "PyTorch provides a module `nn` that makes building networks much simpler. Here I'll show you how to build the same one as above with 784 inputs, 256 hidden units, 10 output units and a softmax output."
   ]
  },
  {
   "cell_type": "code",
   "execution_count": 18,
   "metadata": {},
   "outputs": [],
   "source": [
    "from torch import nn"
   ]
  },
  {
   "cell_type": "code",
   "execution_count": 19,
   "metadata": {},
   "outputs": [],
   "source": [
    "class Network(nn.Module):\n",
    "    def __init__(self):\n",
    "        super().__init__()\n",
    "        \n",
    "        # Inputs to hidden layer linear transformation\n",
    "        self.hidden = nn.Linear(784, 256)\n",
    "        # Output layer, 10 units - one for each digit\n",
    "        self.output = nn.Linear(256, 10)\n",
    "        \n",
    "        # Define sigmoid activation and softmax output \n",
    "        self.sigmoid = nn.Sigmoid()\n",
    "        self.softmax = nn.Softmax(dim=1)\n",
    "        \n",
    "    def forward(self, x):\n",
    "        # Pass the input tensor through each of our operations\n",
    "        x = self.hidden(x)\n",
    "        x = self.sigmoid(x)\n",
    "        x = self.output(x)\n",
    "        x = self.softmax(x)\n",
    "        \n",
    "        return x"
   ]
  },
  {
   "cell_type": "markdown",
   "metadata": {},
   "source": [
    "Let's go through this bit by bit.\n",
    "\n",
    "```python\n",
    "class Network(nn.Module):\n",
    "```\n",
    "\n",
    "Here we're inheriting from `nn.Module`. Combined with `super().__init__()` this creates a class that tracks the architecture and provides a lot of useful methods and attributes. It is mandatory to inherit from `nn.Module` when you're creating a class for your network. The name of the class itself can be anything.\n",
    "\n",
    "```python\n",
    "self.hidden = nn.Linear(784, 256)\n",
    "```\n",
    "\n",
    "This line creates a module for a linear transformation, $x\\mathbf{W} + b$, with 784 inputs and 256 outputs and assigns it to `self.hidden`. The module automatically creates the weight and bias tensors which we'll use in the `forward` method. You can access the weight and bias tensors once the network (`net`) is created with `net.hidden.weight` and `net.hidden.bias`.\n",
    "\n",
    "```python\n",
    "self.output = nn.Linear(256, 10)\n",
    "```\n",
    "\n",
    "Similarly, this creates another linear transformation with 256 inputs and 10 outputs.\n",
    "\n",
    "```python\n",
    "self.sigmoid = nn.Sigmoid()\n",
    "self.softmax = nn.Softmax(dim=1)\n",
    "```\n",
    "\n",
    "Here I defined operations for the sigmoid activation and softmax output. Setting `dim=1` in `nn.Softmax(dim=1)` calculates softmax across the columns.\n",
    "\n",
    "```python\n",
    "def forward(self, x):\n",
    "```\n",
    "\n",
    "PyTorch networks created with `nn.Module` must have a `forward` method defined. It takes in a tensor `x` and passes it through the operations you defined in the `__init__` method.\n",
    "\n",
    "```python\n",
    "x = self.hidden(x)\n",
    "x = self.sigmoid(x)\n",
    "x = self.output(x)\n",
    "x = self.softmax(x)\n",
    "```\n",
    "\n",
    "Here the input tensor `x` is passed through each operation and reassigned to `x`. We can see that the input tensor goes through the hidden layer, then a sigmoid function, then the output layer, and finally the softmax function. It doesn't matter what you name the variables here, as long as the inputs and outputs of the operations match the network architecture you want to build. The order in which you define things in the `__init__` method doesn't matter, but you'll need to sequence the operations correctly in the `forward` method.\n",
    "\n",
    "Now we can create a `Network` object."
   ]
  },
  {
   "cell_type": "code",
   "execution_count": 20,
   "metadata": {},
   "outputs": [
    {
     "data": {
      "text/plain": [
       "Network(\n",
       "  (hidden): Linear(in_features=784, out_features=256, bias=True)\n",
       "  (output): Linear(in_features=256, out_features=10, bias=True)\n",
       "  (sigmoid): Sigmoid()\n",
       "  (softmax): Softmax()\n",
       ")"
      ]
     },
     "execution_count": 20,
     "metadata": {},
     "output_type": "execute_result"
    }
   ],
   "source": [
    "# Create the network and look at it's text representation\n",
    "model = Network()\n",
    "model"
   ]
  },
  {
   "cell_type": "markdown",
   "metadata": {},
   "source": [
    "You can define the network somewhat more concisely and clearly using the `torch.nn.functional` module. This is the most common way you'll see networks defined as many operations are simple element-wise functions. We normally import this module as `F`, `import torch.nn.functional as F`."
   ]
  },
  {
   "cell_type": "code",
   "execution_count": null,
   "metadata": {
    "collapsed": true
   },
   "outputs": [],
   "source": [
    "import torch.nn.functional as F\n",
    "\n",
    "class Network(nn.Module):\n",
    "    def __init__(self):\n",
    "        super().__init__()\n",
    "        # Inputs to hidden layer linear transformation\n",
    "        self.hidden = nn.Linear(784, 256)\n",
    "        # Output layer, 10 units - one for each digit\n",
    "        self.output = nn.Linear(256, 10)\n",
    "        \n",
    "    def forward(self, x):\n",
    "        # Hidden layer with sigmoid activation\n",
    "        x = F.sigmoid(self.hidden(x))\n",
    "        # Output layer with softmax activation\n",
    "        x = F.softmax(self.output(x), dim=1)\n",
    "        \n",
    "        return x"
   ]
  },
  {
   "cell_type": "markdown",
   "metadata": {},
   "source": [
    "### Activation functions\n",
    "\n",
    "So far we've only been looking at the sigmoid activation function, but in general any function can be used as an activation function. The only requirement is that for a network to approximate a non-linear function, the activation functions must be non-linear. Here are a few more examples of common activation functions: Tanh (hyperbolic tangent), and ReLU (rectified linear unit).\n",
    "\n",
    "<img src=\"assets/activation.png\" width=700px>\n",
    "\n",
    "In practice, the ReLU function is used almost exclusively as the activation function for hidden layers."
   ]
  },
  {
   "cell_type": "markdown",
   "metadata": {},
   "source": [
    "### Your Turn to Build a Network\n",
    "\n",
    "<img src=\"assets/mlp_mnist.png\" width=600px>\n",
    "\n",
    "> **Exercise:** Create a network with 784 input units, a hidden layer with 128 units and a ReLU activation, then a hidden layer with 64 units and a ReLU activation, and finally an output layer with a softmax activation as shown above. You can use a ReLU activation with the `nn.ReLU` module or `F.relu` function.\n",
    "\n",
    "It's good practice to name your layers by their type of network, for instance 'fc' to represent a fully-connected layer. As you code your solution, use `fc1`, `fc2`, and `fc3` as your layer names."
   ]
  },
  {
   "cell_type": "code",
   "execution_count": 28,
   "metadata": {
    "scrolled": true
   },
   "outputs": [],
   "source": [
    "## Your solution here\n",
    "import torch.nn.functional as F\n",
    "\n",
    "class Network(nn.Module):\n",
    "    def __init__(self):\n",
    "        super().__init__()\n",
    "        self.fc1 = nn.Linear(784, 128)\n",
    "        self.fc2 = nn.Linear(128, 64)\n",
    "        self.fc3 = nn.Linear(64, 10)\n",
    "    def forward(self, x):\n",
    "        x = F.relu(self.fc1(x))\n",
    "        x = F.relu(self.fc2(x))\n",
    "        x = F.softmax(self.fc3(x), dim=1)\n",
    "        return x\n",
    "model = Network()"
   ]
  },
  {
   "cell_type": "markdown",
   "metadata": {},
   "source": [
    "### Initializing weights and biases\n",
    "\n",
    "The weights and such are automatically initialized for you, but it's possible to customize how they are initialized. The weights and biases are tensors attached to the layer you defined, you can get them with `model.fc1.weight` for instance."
   ]
  },
  {
   "cell_type": "code",
   "execution_count": 29,
   "metadata": {},
   "outputs": [
    {
     "name": "stdout",
     "output_type": "stream",
     "text": [
      "Parameter containing:\n",
      "tensor([[ 0.0339, -0.0354, -0.0100,  ..., -0.0348, -0.0010, -0.0176],\n",
      "        [ 0.0079,  0.0002,  0.0279,  ...,  0.0079, -0.0141,  0.0142],\n",
      "        [ 0.0119, -0.0128,  0.0178,  ..., -0.0327, -0.0063,  0.0138],\n",
      "        ...,\n",
      "        [ 0.0058,  0.0056,  0.0166,  ...,  0.0139,  0.0191, -0.0287],\n",
      "        [ 0.0137,  0.0212,  0.0148,  ...,  0.0282,  0.0008, -0.0232],\n",
      "        [-0.0127, -0.0308, -0.0197,  ..., -0.0064,  0.0102, -0.0289]],\n",
      "       requires_grad=True)\n",
      "Parameter containing:\n",
      "tensor([-0.0315,  0.0011, -0.0051,  0.0103, -0.0323,  0.0050, -0.0178, -0.0064,\n",
      "         0.0143,  0.0279, -0.0340,  0.0288,  0.0256, -0.0328,  0.0048, -0.0024,\n",
      "        -0.0304,  0.0174, -0.0317,  0.0086, -0.0177,  0.0256,  0.0031,  0.0051,\n",
      "        -0.0034,  0.0263, -0.0332, -0.0001, -0.0230,  0.0015,  0.0300,  0.0044,\n",
      "        -0.0088,  0.0057, -0.0220, -0.0156,  0.0045, -0.0251, -0.0235, -0.0074,\n",
      "        -0.0302, -0.0159,  0.0110, -0.0026, -0.0306,  0.0232, -0.0298,  0.0262,\n",
      "        -0.0159, -0.0178,  0.0110, -0.0059, -0.0339,  0.0037, -0.0012, -0.0068,\n",
      "         0.0208, -0.0339,  0.0128, -0.0024, -0.0064,  0.0340, -0.0052, -0.0124,\n",
      "        -0.0227,  0.0099, -0.0145, -0.0247,  0.0184,  0.0211,  0.0151,  0.0262,\n",
      "        -0.0106, -0.0279, -0.0235, -0.0326, -0.0241, -0.0274,  0.0035, -0.0172,\n",
      "         0.0055, -0.0167,  0.0053, -0.0244, -0.0295, -0.0174,  0.0251,  0.0020,\n",
      "         0.0344, -0.0121,  0.0304,  0.0305,  0.0291,  0.0044,  0.0338, -0.0256,\n",
      "         0.0121, -0.0142, -0.0035,  0.0252, -0.0240, -0.0187, -0.0149, -0.0003,\n",
      "         0.0117,  0.0242,  0.0348,  0.0023,  0.0303, -0.0348, -0.0076, -0.0058,\n",
      "        -0.0083,  0.0284,  0.0224,  0.0145, -0.0044, -0.0320, -0.0204, -0.0313,\n",
      "        -0.0115, -0.0235,  0.0179, -0.0052,  0.0213,  0.0030, -0.0179, -0.0252],\n",
      "       requires_grad=True)\n"
     ]
    }
   ],
   "source": [
    "print(model.fc1.weight)\n",
    "print(model.fc1.bias)"
   ]
  },
  {
   "cell_type": "markdown",
   "metadata": {},
   "source": [
    "For custom initialization, we want to modify these tensors in place. These are actually autograd *Variables*, so we need to get back the actual tensors with `model.fc1.weight.data`. Once we have the tensors, we can fill them with zeros (for biases) or random normal values."
   ]
  },
  {
   "cell_type": "code",
   "execution_count": 30,
   "metadata": {},
   "outputs": [
    {
     "data": {
      "text/plain": [
       "tensor([0., 0., 0., 0., 0., 0., 0., 0., 0., 0., 0., 0., 0., 0., 0., 0., 0., 0., 0., 0., 0., 0., 0., 0.,\n",
       "        0., 0., 0., 0., 0., 0., 0., 0., 0., 0., 0., 0., 0., 0., 0., 0., 0., 0., 0., 0., 0., 0., 0., 0.,\n",
       "        0., 0., 0., 0., 0., 0., 0., 0., 0., 0., 0., 0., 0., 0., 0., 0., 0., 0., 0., 0., 0., 0., 0., 0.,\n",
       "        0., 0., 0., 0., 0., 0., 0., 0., 0., 0., 0., 0., 0., 0., 0., 0., 0., 0., 0., 0., 0., 0., 0., 0.,\n",
       "        0., 0., 0., 0., 0., 0., 0., 0., 0., 0., 0., 0., 0., 0., 0., 0., 0., 0., 0., 0., 0., 0., 0., 0.,\n",
       "        0., 0., 0., 0., 0., 0., 0., 0.])"
      ]
     },
     "execution_count": 30,
     "metadata": {},
     "output_type": "execute_result"
    }
   ],
   "source": [
    "# Set biases to all zeros\n",
    "model.fc1.bias.data.fill_(0)"
   ]
  },
  {
   "cell_type": "code",
   "execution_count": 31,
   "metadata": {},
   "outputs": [
    {
     "data": {
      "text/plain": [
       "tensor([[-0.0118, -0.0048,  0.0008,  ..., -0.0093, -0.0035, -0.0190],\n",
       "        [ 0.0067, -0.0067,  0.0010,  ...,  0.0073,  0.0101,  0.0044],\n",
       "        [ 0.0167,  0.0138,  0.0098,  ..., -0.0015, -0.0016,  0.0085],\n",
       "        ...,\n",
       "        [-0.0125, -0.0142,  0.0135,  ..., -0.0337, -0.0076, -0.0008],\n",
       "        [ 0.0027, -0.0094,  0.0033,  ..., -0.0192, -0.0054, -0.0012],\n",
       "        [ 0.0044, -0.0094,  0.0050,  ...,  0.0099,  0.0030, -0.0178]])"
      ]
     },
     "execution_count": 31,
     "metadata": {},
     "output_type": "execute_result"
    }
   ],
   "source": [
    "# sample from random normal with standard dev = 0.01\n",
    "model.fc1.weight.data.normal_(std=0.01)"
   ]
  },
  {
   "cell_type": "markdown",
   "metadata": {},
   "source": [
    "### Forward pass\n",
    "\n",
    "Now that we have a network, let's see what happens when we pass in an image."
   ]
  },
  {
   "cell_type": "code",
   "execution_count": null,
   "metadata": {
    "collapsed": true
   },
   "outputs": [],
   "source": [
    "# Grab some data \n",
    "dataiter = iter(trainloader)\n",
    "images, labels = dataiter.next()\n",
    "\n",
    "# Resize images into a 1D vector, new shape is (batch size, color channels, image pixels) \n",
    "images.resize_(64, 1, 784)\n",
    "# or images.resize_(images.shape[0], 1, 784) to automatically get batch size\n",
    "\n",
    "# Forward pass through the network\n",
    "img_idx = 0\n",
    "ps = model.forward(images[img_idx,:])\n",
    "\n",
    "img = images[img_idx]\n",
    "helper.view_classify(img.view(1, 28, 28), ps)"
   ]
  },
  {
   "cell_type": "markdown",
   "metadata": {},
   "source": [
    "As you can see above, our network has basically no idea what this digit is. It's because we haven't trained it yet, all the weights are random!\n",
    "\n",
    "### Using `nn.Sequential`\n",
    "\n",
    "PyTorch provides a convenient way to build networks like this where a tensor is passed sequentially through operations, `nn.Sequential` ([documentation](https://pytorch.org/docs/master/nn.html#torch.nn.Sequential)). Using this to build the equivalent network:"
   ]
  },
  {
   "cell_type": "code",
   "execution_count": 32,
   "metadata": {},
   "outputs": [
    {
     "name": "stdout",
     "output_type": "stream",
     "text": [
      "Sequential(\n",
      "  (0): Linear(in_features=784, out_features=128, bias=True)\n",
      "  (1): ReLU()\n",
      "  (2): Linear(in_features=128, out_features=64, bias=True)\n",
      "  (3): ReLU()\n",
      "  (4): Linear(in_features=64, out_features=10, bias=True)\n",
      "  (5): Softmax()\n",
      ")\n"
     ]
    },
    {
     "data": {
      "image/png": "[encoded data removed]",
      "text/plain": [
       "<Figure size 432x648 with 2 Axes>"
      ]
     },
     "metadata": {
      "image/png": {
       "height": 226,
       "width": 423
      },
      "needs_background": "light"
     },
     "output_type": "display_data"
    }
   ],
   "source": [
    "# Hyperparameters for our network\n",
    "input_size = 784\n",
    "hidden_sizes = [128, 64]\n",
    "output_size = 10\n",
    "\n",
    "# Build a feed-forward network\n",
    "model = nn.Sequential(nn.Linear(input_size, hidden_sizes[0]),\n",
    "                      nn.ReLU(),\n",
    "                      nn.Linear(hidden_sizes[0], hidden_sizes[1]),\n",
    "                      nn.ReLU(),\n",
    "                      nn.Linear(hidden_sizes[1], output_size),\n",
    "                      nn.Softmax(dim=1))\n",
    "print(model)\n",
    "\n",
    "# Forward pass through the network and display output\n",
    "images, labels = next(iter(trainloader))\n",
    "images.resize_(images.shape[0], 1, 784)\n",
    "ps = model.forward(images[0,:])\n",
    "helper.view_classify(images[0].view(1, 28, 28), ps)"
   ]
  },
  {
   "cell_type": "markdown",
   "metadata": {},
   "source": [
    "Here our model is the same as before: 784 input units, a hidden layer with 128 units, ReLU activation, 64 unit hidden layer, another ReLU, then the output layer with 10 units, and the softmax output.\n",
    "\n",
    "The operations are available by passing in the appropriate index. For example, if you want to get first Linear operation and look at the weights, you'd use `model[0]`."
   ]
  },
  {
   "cell_type": "code",
   "execution_count": 33,
   "metadata": {},
   "outputs": [
    {
     "name": "stdout",
     "output_type": "stream",
     "text": [
      "Linear(in_features=784, out_features=128, bias=True)\n"
     ]
    },
    {
     "data": {
      "text/plain": [
       "Parameter containing:\n",
       "tensor([[-0.0256, -0.0332,  0.0240,  ...,  0.0008, -0.0255, -0.0094],\n",
       "        [-0.0314,  0.0351, -0.0342,  ...,  0.0164, -0.0262,  0.0145],\n",
       "        [ 0.0150, -0.0330,  0.0324,  ..., -0.0015, -0.0051,  0.0221],\n",
       "        ...,\n",
       "        [ 0.0175, -0.0181,  0.0265,  ...,  0.0197, -0.0094, -0.0159],\n",
       "        [ 0.0236, -0.0270,  0.0225,  ..., -0.0185, -0.0228,  0.0051],\n",
       "        [-0.0194,  0.0222, -0.0134,  ...,  0.0306, -0.0117, -0.0021]],\n",
       "       requires_grad=True)"
      ]
     },
     "execution_count": 33,
     "metadata": {},
     "output_type": "execute_result"
    }
   ],
   "source": [
    "print(model[0])\n",
    "model[0].weight"
   ]
  },
  {
   "cell_type": "markdown",
   "metadata": {},
   "source": [
    "You can also pass in an `OrderedDict` to name the individual layers and operations, instead of using incremental integers. Note that dictionary keys must be unique, so _each operation must have a different name_."
   ]
  },
  {
   "cell_type": "code",
   "execution_count": 34,
   "metadata": {},
   "outputs": [
    {
     "data": {
      "text/plain": [
       "Sequential(\n",
       "  (fc1): Linear(in_features=784, out_features=128, bias=True)\n",
       "  (relu1): ReLU()\n",
       "  (fc2): Linear(in_features=128, out_features=64, bias=True)\n",
       "  (relu2): ReLU()\n",
       "  (output): Linear(in_features=64, out_features=10, bias=True)\n",
       "  (softmax): Softmax()\n",
       ")"
      ]
     },
     "execution_count": 34,
     "metadata": {},
     "output_type": "execute_result"
    }
   ],
   "source": [
    "from collections import OrderedDict\n",
    "model = nn.Sequential(OrderedDict([\n",
    "                      ('fc1', nn.Linear(input_size, hidden_sizes[0])),\n",
    "                      ('relu1', nn.ReLU()),\n",
    "                      ('fc2', nn.Linear(hidden_sizes[0], hidden_sizes[1])),\n",
    "                      ('relu2', nn.ReLU()),\n",
    "                      ('output', nn.Linear(hidden_sizes[1], output_size)),\n",
    "                      ('softmax', nn.Softmax(dim=1))]))\n",
    "model"
   ]
  },
  {
   "cell_type": "markdown",
   "metadata": {},
   "source": [
    "Now you can access layers either by integer or the name"
   ]
  },
  {
   "cell_type": "code",
   "execution_count": 35,
   "metadata": {},
   "outputs": [
    {
     "name": "stdout",
     "output_type": "stream",
     "text": [
      "Linear(in_features=784, out_features=128, bias=True)\n",
      "Linear(in_features=784, out_features=128, bias=True)\n"
     ]
    }
   ],
   "source": [
    "print(model[0])\n",
    "print(model.fc1)"
   ]
  },
  {
   "cell_type": "markdown",
   "metadata": {},
   "source": [
    "In the next notebook, we'll see how we can train a neural network to accuractly predict the numbers appearing in the MNIST images."
   ]
  }
 ],
 "metadata": {
  "kernelspec": {
   "display_name": "Python 3",
   "language": "python",
   "name": "python3"
  },
  "language_info": {
   "codemirror_mode": {
    "name": "ipython",
    "version": 3
   },
   "file_extension": ".py",
   "mimetype": "text/x-python",
   "name": "python",
   "nbconvert_exporter": "python",
   "pygments_lexer": "ipython3",
   "version": "3.7.1"
  }
 },
 "nbformat": 4,
 "nbformat_minor": 2
}
